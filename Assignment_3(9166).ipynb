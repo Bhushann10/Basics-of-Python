{
  "cells": [
    {
      "cell_type": "markdown",
      "source": [
        "### **Q.23**"
      ],
      "metadata": {
        "id": "JIPyAXEoeyPG"
      },
      "id": "JIPyAXEoeyPG"
    },
    {
      "cell_type": "code",
      "execution_count": 4,
      "id": "dietary-separation",
      "metadata": {
        "id": "dietary-separation"
      },
      "outputs": [],
      "source": [
        "import pandas as pd\n",
        "import numpy as np\n",
        "import matplotlib.pyplot as plt"
      ]
    },
    {
      "cell_type": "code",
      "execution_count": 9,
      "id": "sustained-history",
      "metadata": {
        "id": "sustained-history"
      },
      "outputs": [],
      "source": [
        "df=pd.DataFrame({\"Year\":[2015,2016,2017,2018,2019,2020],\n",
        "             \"No of Students\":[700,1200,900,800,950,1000]})"
      ]
    },
    {
      "cell_type": "code",
      "execution_count": 10,
      "id": "alpine-radical",
      "metadata": {
        "colab": {
          "base_uri": "https://localhost:8080/",
          "height": 282
        },
        "id": "alpine-radical",
        "outputId": "7461c6ca-a2c1-4bf6-99c2-83e9091fbd71"
      },
      "outputs": [
        {
          "output_type": "execute_result",
          "data": {
            "text/plain": [
              "[<matplotlib.lines.Line2D at 0x7fb54d853710>]"
            ]
          },
          "metadata": {},
          "execution_count": 10
        },
        {
          "output_type": "display_data",
          "data": {
            "text/plain": [
              "<Figure size 432x288 with 1 Axes>"
            ],
            "image/png": "[encoded data removed]"
          },
          "metadata": {
            "needs_background": "light"
          }
        }
      ],
      "source": [
        "plt.plot(df['Year'],linestyle = 'dotted')"
      ]
    },
    {
      "cell_type": "code",
      "execution_count": 11,
      "id": "single-passion",
      "metadata": {
        "colab": {
          "base_uri": "https://localhost:8080/",
          "height": 282
        },
        "id": "single-passion",
        "outputId": "9e8086e2-fbcd-402a-b389-10151fde67a1"
      },
      "outputs": [
        {
          "output_type": "execute_result",
          "data": {
            "text/plain": [
              "[<matplotlib.lines.Line2D at 0x7fb54d32c9d0>]"
            ]
          },
          "metadata": {},
          "execution_count": 11
        },
        {
          "output_type": "display_data",
          "data": {
            "text/plain": [
              "<Figure size 432x288 with 1 Axes>"
            ],
            "image/png": "[encoded data removed]"
          },
          "metadata": {
            "needs_background": "light"
          }
        }
      ],
      "source": [
        "plt.plot(df['No of Students'],linestyle = 'dotted')"
      ]
    },
    {
      "cell_type": "markdown",
      "source": [
        "### **Q.25**"
      ],
      "metadata": {
        "id": "nYp9_BLufGdh"
      },
      "id": "nYp9_BLufGdh"
    },
    {
      "cell_type": "code",
      "execution_count": 12,
      "id": "noticed-manitoba",
      "metadata": {
        "id": "noticed-manitoba"
      },
      "outputs": [],
      "source": [
        "import pandas as pd\n",
        "import matplotlib.pyplot as plt"
      ]
    },
    {
      "cell_type": "code",
      "execution_count": 13,
      "id": "pharmaceutical-authority",
      "metadata": {
        "id": "pharmaceutical-authority"
      },
      "outputs": [],
      "source": [
        "df=pd.DataFrame({\"Section\":[\"A\",\"B\",\"C\",\"D\",\"E\"],\n",
        "             \"No of WOrkers\":[200,367,160,50,490]})"
      ]
    },
    {
      "cell_type": "code",
      "execution_count": 14,
      "id": "recognized-doubt",
      "metadata": {
        "colab": {
          "base_uri": "https://localhost:8080/",
          "height": 422
        },
        "id": "recognized-doubt",
        "outputId": "8014d15c-cad7-4aee-bed4-4d340294bc32"
      },
      "outputs": [
        {
          "output_type": "execute_result",
          "data": {
            "text/plain": [
              "([<matplotlib.patches.Wedge at 0x7fb54d2aa790>,\n",
              "  <matplotlib.patches.Wedge at 0x7fb54d2aac10>,\n",
              "  <matplotlib.patches.Wedge at 0x7fb54d2b6250>,\n",
              "  <matplotlib.patches.Wedge at 0x7fb54d2b6310>,\n",
              "  <matplotlib.patches.Wedge at 0x7fb54d2c0190>],\n",
              " [Text(0.9674894343689274, 0.5234158904585273, 'A'),\n",
              "  Text(-0.35750882196675504, 1.040282385804904, 'B'),\n",
              "  Text(-1.0975358118464906, -0.07358764647999762, 'C'),\n",
              "  Text(-0.9154680795517257, -0.6098509615650985, 'D'),\n",
              "  Text(0.38319058291654484, -1.031098917254828, 'E')])"
            ]
          },
          "metadata": {},
          "execution_count": 14
        },
        {
          "output_type": "display_data",
          "data": {
            "text/plain": [
              "<Figure size 432x288 with 1 Axes>"
            ],
            "image/png": "[encoded data removed]"
          },
          "metadata": {}
        }
      ],
      "source": [
        "plt.pie(df['No of WOrkers'],labels=df['Section'])"
      ]
    },
    {
      "cell_type": "code",
      "execution_count": 15,
      "id": "latest-messenger",
      "metadata": {
        "id": "latest-messenger"
      },
      "outputs": [],
      "source": [
        "import pandas as pd\n",
        "import matplotlib.pyplot as plt"
      ]
    },
    {
      "cell_type": "code",
      "execution_count": 16,
      "id": "permanent-robinson",
      "metadata": {
        "id": "permanent-robinson"
      },
      "outputs": [],
      "source": [
        "df1=pd.DataFrame({\"Subject\": [\"Chemistry\",\"Electronics\",\"Mathematics\",\"Physics\",\"Statistics\"],\n",
        "                 \"No. of Students (%)\":[23.17, 13.51, 17.37, 18.92, 27.03]})"
      ]
    },
    {
      "cell_type": "code",
      "execution_count": 17,
      "id": "foreign-constitutional",
      "metadata": {
        "colab": {
          "base_uri": "https://localhost:8080/",
          "height": 215
        },
        "id": "foreign-constitutional",
        "outputId": "ad0fc653-c883-419b-fe22-39c01622fff6"
      },
      "outputs": [
        {
          "output_type": "execute_result",
          "data": {
            "text/plain": [
              "       Subject  No. of Students (%)\n",
              "0    Chemistry                23.17\n",
              "1  Electronics                13.51\n",
              "2  Mathematics                17.37\n",
              "3      Physics                18.92\n",
              "4   Statistics                27.03"
            ],
            "text/html": [
              "\n",
              "  <div id=\"df-c72df889-bfb3-4dd3-90a3-b8f6d48a083f\">\n",
              "    <div class=\"colab-df-container\">\n",
              "      <div>\n",
              "<style scoped>\n",
              "    .dataframe tbody tr th:only-of-type {\n",
              "        vertical-align: middle;\n",
              "    }\n",
              "\n",
              "    .dataframe tbody tr th {\n",
              "        vertical-align: top;\n",
              "    }\n",
              "\n",
              "    .dataframe thead th {\n",
              "        text-align: right;\n",
              "    }\n",
              "</style>\n",
              "<table border=\"1\" class=\"dataframe\">\n",
              "  <thead>\n",
              "    <tr style=\"text-align: right;\">\n",
              "      <th></th>\n",
              "      <th>Subject</th>\n",
              "      <th>No. of Students (%)</th>\n",
              "    </tr>\n",
              "  </thead>\n",
              "  <tbody>\n",
              "    <tr>\n",
              "      <th>0</th>\n",
              "      <td>Chemistry</td>\n",
              "      <td>23.17</td>\n",
              "    </tr>\n",
              "    <tr>\n",
              "      <th>1</th>\n",
              "      <td>Electronics</td>\n",
              "      <td>13.51</td>\n",
              "    </tr>\n",
              "    <tr>\n",
              "      <th>2</th>\n",
              "      <td>Mathematics</td>\n",
              "      <td>17.37</td>\n",
              "    </tr>\n",
              "    <tr>\n",
              "      <th>3</th>\n",
              "      <td>Physics</td>\n",
              "      <td>18.92</td>\n",
              "    </tr>\n",
              "    <tr>\n",
              "      <th>4</th>\n",
              "      <td>Statistics</td>\n",
              "      <td>27.03</td>\n",
              "    </tr>\n",
              "  </tbody>\n",
              "</table>\n",
              "</div>\n",
              "      <button class=\"colab-df-convert\" onclick=\"convertToInteractive('df-c72df889-bfb3-4dd3-90a3-b8f6d48a083f')\"\n",
              "              title=\"Convert this dataframe to an interactive table.\"\n",
              "              style=\"display:none;\">\n",
              "        \n",
              "  <svg xmlns=\"http://www.w3.org/2000/svg\" height=\"24px\"viewBox=\"0 0 24 24\"\n",
              "       width=\"24px\">\n",
              "    <path d=\"M0 0h24v24H0V0z\" fill=\"none\"/>\n",
              "    <path d=\"M18.56 5.44l.94 2.06.94-2.06 2.06-.94-2.06-.94-.94-2.06-.94 2.06-2.06.94zm-11 1L8.5 8.5l.94-2.06 2.06-.94-2.06-.94L8.5 2.5l-.94 2.06-2.06.94zm10 10l.94 2.06.94-2.06 2.06-.94-2.06-.94-.94-2.06-.94 2.06-2.06.94z\"/><path d=\"M17.41 7.96l-1.37-1.37c-.4-.4-.92-.59-1.43-.59-.52 0-1.04.2-1.43.59L10.3 9.45l-7.72 7.72c-.78.78-.78 2.05 0 2.83L4 21.41c.39.39.9.59 1.41.59.51 0 1.02-.2 1.41-.59l7.78-7.78 2.81-2.81c.8-.78.8-2.07 0-2.86zM5.41 20L4 18.59l7.72-7.72 1.47 1.35L5.41 20z\"/>\n",
              "  </svg>\n",
              "      </button>\n",
              "      \n",
              "  <style>\n",
              "    .colab-df-container {\n",
              "      display:flex;\n",
              "      flex-wrap:wrap;\n",
              "      gap: 12px;\n",
              "    }\n",
              "\n",
              "    .colab-df-convert {\n",
              "      background-color: #E8F0FE;\n",
              "      border: none;\n",
              "      border-radius: 50%;\n",
              "      cursor: pointer;\n",
              "      display: none;\n",
              "      fill: #1967D2;\n",
              "      height: 32px;\n",
              "      padding: 0 0 0 0;\n",
              "      width: 32px;\n",
              "    }\n",
              "\n",
              "    .colab-df-convert:hover {\n",
              "      background-color: #E2EBFA;\n",
              "      box-shadow: 0px 1px 2px rgba(60, 64, 67, 0.3), 0px 1px 3px 1px rgba(60, 64, 67, 0.15);\n",
              "      fill: #174EA6;\n",
              "    }\n",
              "\n",
              "    [theme=dark] .colab-df-convert {\n",
              "      background-color: #3B4455;\n",
              "      fill: #D2E3FC;\n",
              "    }\n",
              "\n",
              "    [theme=dark] .colab-df-convert:hover {\n",
              "      background-color: #434B5C;\n",
              "      box-shadow: 0px 1px 3px 1px rgba(0, 0, 0, 0.15);\n",
              "      filter: drop-shadow(0px 1px 2px rgba(0, 0, 0, 0.3));\n",
              "      fill: #FFFFFF;\n",
              "    }\n",
              "  </style>\n",
              "\n",
              "      <script>\n",
              "        const buttonEl =\n",
              "          document.querySelector('#df-c72df889-bfb3-4dd3-90a3-b8f6d48a083f button.colab-df-convert');\n",
              "        buttonEl.style.display =\n",
              "          google.colab.kernel.accessAllowed ? 'block' : 'none';\n",
              "\n",
              "        async function convertToInteractive(key) {\n",
              "          const element = document.querySelector('#df-c72df889-bfb3-4dd3-90a3-b8f6d48a083f');\n",
              "          const dataTable =\n",
              "            await google.colab.kernel.invokeFunction('convertToInteractive',\n",
              "                                                     [key], {});\n",
              "          if (!dataTable) return;\n",
              "\n",
              "          const docLinkHtml = 'Like what you see? Visit the ' +\n",
              "            '<a target=\"_blank\" href=https://colab.research.google.com/notebooks/data_table.ipynb>data table notebook</a>'\n",
              "            + ' to learn more about interactive tables.';\n",
              "          element.innerHTML = '';\n",
              "          dataTable['output_type'] = 'display_data';\n",
              "          await google.colab.output.renderOutput(dataTable, element);\n",
              "          const docLink = document.createElement('div');\n",
              "          docLink.innerHTML = docLinkHtml;\n",
              "          element.appendChild(docLink);\n",
              "        }\n",
              "      </script>\n",
              "    </div>\n",
              "  </div>\n",
              "  "
            ]
          },
          "metadata": {},
          "execution_count": 17
        }
      ],
      "source": [
        "df1"
      ]
    },
    {
      "cell_type": "code",
      "execution_count": 18,
      "id": "sitting-preservation",
      "metadata": {
        "colab": {
          "base_uri": "https://localhost:8080/",
          "height": 749
        },
        "id": "sitting-preservation",
        "outputId": "76fe9ff7-9cf3-4c8a-c2d2-1bc3f1ad06db"
      },
      "outputs": [
        {
          "output_type": "execute_result",
          "data": {
            "text/plain": [
              "([<matplotlib.patches.Wedge at 0x7fb54d1fe1d0>,\n",
              "  <matplotlib.patches.Wedge at 0x7fb54d1fe690>,\n",
              "  <matplotlib.patches.Wedge at 0x7fb54d1fe650>,\n",
              "  <matplotlib.patches.Wedge at 0x7fb54d208250>,\n",
              "  <matplotlib.patches.Wedge at 0x7fb54d208b90>],\n",
              " [Text(0.8212253597392717, 0.7318394007711692, 'Chemistry'),\n",
              "  Text(-0.3349850587205633, 1.0477523612161324, 'Electronics'),\n",
              "  Text(-1.0536819748682784, 0.3158390346959743, 'Mathematics'),\n",
              "  Text(-0.7269243934892979, -0.8255791459031753, 'Physics'),\n",
              "  Text(0.7266651445270067, -0.8258073429859683, 'Statistics')])"
            ]
          },
          "metadata": {},
          "execution_count": 18
        },
        {
          "output_type": "display_data",
          "data": {
            "text/plain": [
              "<Figure size 1440x720 with 1 Axes>"
            ],
            "image/png": "[encoded data removed]"
          },
          "metadata": {}
        }
      ],
      "source": [
        "plt.figure(figsize=(20,10))\n",
        "plt.pie(df1['No. of Students (%)'],labels=df1['Subject'])"
      ]
    },
    {
      "cell_type": "code",
      "execution_count": null,
      "id": "important-walnut",
      "metadata": {
        "id": "important-walnut"
      },
      "outputs": [],
      "source": [
        ""
      ]
    },
    {
      "cell_type": "code",
      "execution_count": null,
      "id": "afraid-modification",
      "metadata": {
        "id": "afraid-modification"
      },
      "outputs": [],
      "source": [
        ""
      ]
    },
    {
      "cell_type": "markdown",
      "source": [
        "### **Q.26**"
      ],
      "metadata": {
        "id": "ug9Agl5tfN5T"
      },
      "id": "ug9Agl5tfN5T"
    },
    {
      "cell_type": "code",
      "execution_count": 19,
      "id": "advanced-retail",
      "metadata": {
        "id": "advanced-retail"
      },
      "outputs": [],
      "source": [
        "import pandas as pd\n",
        "import numpy as np\n",
        "import matplotlib.pyplot as plt"
      ]
    },
    {
      "cell_type": "code",
      "execution_count": 20,
      "id": "latin-soldier",
      "metadata": {
        "id": "latin-soldier"
      },
      "outputs": [],
      "source": [
        "df=pd.DataFrame({\"Year\":[\"2017-18\",'2018-19','2019-20'],\n",
        "             \"Arts\":[750,725,850],\n",
        "                \"Commerce\":[1450,1625,1750]})"
      ]
    },
    {
      "cell_type": "code",
      "execution_count": 21,
      "id": "handed-venice",
      "metadata": {
        "colab": {
          "base_uri": "https://localhost:8080/",
          "height": 282
        },
        "id": "handed-venice",
        "outputId": "e09a566e-5f1d-4f17-dcd1-390a876b6c0b"
      },
      "outputs": [
        {
          "output_type": "execute_result",
          "data": {
            "text/plain": [
              "<BarContainer object of 3 artists>"
            ]
          },
          "metadata": {},
          "execution_count": 21
        },
        {
          "output_type": "display_data",
          "data": {
            "text/plain": [
              "<Figure size 432x288 with 1 Axes>"
            ],
            "image/png": "[encoded data removed]"
          },
          "metadata": {
            "needs_background": "light"
          }
        }
      ],
      "source": [
        "plt.bar(df['Year'],df['Arts'])\n",
        "plt.bar(df['Year'],df['Commerce'],bottom=df['Arts'])"
      ]
    },
    {
      "cell_type": "code",
      "execution_count": null,
      "id": "increasing-census",
      "metadata": {
        "id": "increasing-census"
      },
      "outputs": [],
      "source": [
        ""
      ]
    },
    {
      "cell_type": "markdown",
      "source": [
        "### **Q.27**"
      ],
      "metadata": {
        "id": "H8vJCO04fVvX"
      },
      "id": "H8vJCO04fVvX"
    },
    {
      "cell_type": "code",
      "execution_count": 22,
      "id": "ordered-polish",
      "metadata": {
        "id": "ordered-polish"
      },
      "outputs": [],
      "source": [
        "import pandas as pd\n",
        "import numpy as np\n",
        "import matplotlib.pyplot as plt"
      ]
    },
    {
      "cell_type": "code",
      "execution_count": 23,
      "id": "above-charger",
      "metadata": {
        "id": "above-charger"
      },
      "outputs": [],
      "source": [
        "df=pd.DataFrame({'Year':[2016,2017,2018,2019,2020],\n",
        "             \"Turnover (lakhs)\":[6.5,6.7,6.9,7,8],\n",
        "             \"Profit(Lakhs)\":[1.2,1.7,1.8,1.9,2]})"
      ]
    },
    {
      "cell_type": "code",
      "execution_count": 24,
      "id": "other-daughter",
      "metadata": {
        "colab": {
          "base_uri": "https://localhost:8080/",
          "height": 282
        },
        "id": "other-daughter",
        "outputId": "13c1bfbe-8f02-49d5-80dc-703aa21776ad"
      },
      "outputs": [
        {
          "output_type": "execute_result",
          "data": {
            "text/plain": [
              "<BarContainer object of 5 artists>"
            ]
          },
          "metadata": {},
          "execution_count": 24
        },
        {
          "output_type": "display_data",
          "data": {
            "text/plain": [
              "<Figure size 432x288 with 1 Axes>"
            ],
            "image/png": "[encoded data removed]"
          },
          "metadata": {
            "needs_background": "light"
          }
        }
      ],
      "source": [
        "plt.bar(df['Year'],df['Turnover (lakhs)'])"
      ]
    },
    {
      "cell_type": "code",
      "execution_count": 25,
      "id": "generic-norman",
      "metadata": {
        "colab": {
          "base_uri": "https://localhost:8080/",
          "height": 282
        },
        "id": "generic-norman",
        "outputId": "cf9967ca-e4e1-4d4d-a992-df5f1526952d"
      },
      "outputs": [
        {
          "output_type": "execute_result",
          "data": {
            "text/plain": [
              "<BarContainer object of 5 artists>"
            ]
          },
          "metadata": {},
          "execution_count": 25
        },
        {
          "output_type": "display_data",
          "data": {
            "text/plain": [
              "<Figure size 432x288 with 1 Axes>"
            ],
            "image/png": "[encoded data removed]"
          },
          "metadata": {
            "needs_background": "light"
          }
        }
      ],
      "source": [
        "plt.bar(df['Year'],df['Profit(Lakhs)'])"
      ]
    },
    {
      "cell_type": "code",
      "execution_count": 26,
      "id": "abstract-minimum",
      "metadata": {
        "colab": {
          "base_uri": "https://localhost:8080/",
          "height": 279
        },
        "id": "abstract-minimum",
        "outputId": "a110b357-d3c4-4179-f092-da43d770739f"
      },
      "outputs": [
        {
          "output_type": "execute_result",
          "data": {
            "text/plain": [
              "Text(0, 0.5, 'Profit(Lakhs)')"
            ]
          },
          "metadata": {},
          "execution_count": 26
        },
        {
          "output_type": "display_data",
          "data": {
            "text/plain": [
              "<Figure size 432x288 with 1 Axes>"
            ],
            "image/png": "[encoded data removed]"
          },
          "metadata": {
            "needs_background": "light"
          }
        }
      ],
      "source": [
        "df['Profit(Lakhs)'].plot(kind='bar')\n",
        "plt.ylabel(\"Profit(Lakhs)\")"
      ]
    },
    {
      "cell_type": "code",
      "execution_count": null,
      "id": "fifty-arcade",
      "metadata": {
        "id": "fifty-arcade"
      },
      "outputs": [],
      "source": [
        ""
      ]
    },
    {
      "cell_type": "markdown",
      "source": [
        "### **Q.29**"
      ],
      "metadata": {
        "id": "fBfQbT7yffFc"
      },
      "id": "fBfQbT7yffFc"
    },
    {
      "cell_type": "code",
      "execution_count": 27,
      "id": "congressional-talent",
      "metadata": {
        "id": "congressional-talent"
      },
      "outputs": [],
      "source": [
        "import pandas as pd\n",
        "import matplotlib.pyplot as plt\n",
        "import seaborn as sns\n",
        "import numpy as np"
      ]
    },
    {
      "cell_type": "code",
      "execution_count": 28,
      "id": "devoted-place",
      "metadata": {
        "id": "devoted-place"
      },
      "outputs": [],
      "source": [
        "df=pd.DataFrame({\"a\":[15, 17, 29, 37, 5, 12, 45, 16, 29, 32, 18, 22, 24, 7, 13]})"
      ]
    },
    {
      "cell_type": "code",
      "execution_count": 29,
      "id": "bright-yellow",
      "metadata": {
        "colab": {
          "base_uri": "https://localhost:8080/",
          "height": 282
        },
        "id": "bright-yellow",
        "outputId": "6559a3d7-e97f-4592-a8cc-4f69a966e95a"
      },
      "outputs": [
        {
          "output_type": "execute_result",
          "data": {
            "text/plain": [
              "<matplotlib.axes._subplots.AxesSubplot at 0x7fb53ed14d10>"
            ]
          },
          "metadata": {},
          "execution_count": 29
        },
        {
          "output_type": "display_data",
          "data": {
            "text/plain": [
              "<Figure size 432x288 with 1 Axes>"
            ],
            "image/png": "[encoded data removed]"
          },
          "metadata": {
            "needs_background": "light"
          }
        }
      ],
      "source": [
        "sns.boxplot(data=df['a'])"
      ]
    },
    {
      "cell_type": "code",
      "execution_count": 30,
      "id": "painful-payroll",
      "metadata": {
        "id": "painful-payroll"
      },
      "outputs": [],
      "source": [
        "arr=np.random.randn(200)"
      ]
    },
    {
      "cell_type": "code",
      "execution_count": 31,
      "id": "nuclear-glasgow",
      "metadata": {
        "id": "nuclear-glasgow"
      },
      "outputs": [],
      "source": [
        "df_generated=pd.DataFrame(arr)"
      ]
    },
    {
      "cell_type": "code",
      "execution_count": 32,
      "id": "colored-rotation",
      "metadata": {
        "colab": {
          "base_uri": "https://localhost:8080/",
          "height": 424
        },
        "id": "colored-rotation",
        "outputId": "c46715f4-7721-4589-a901-ab24e7a25d13"
      },
      "outputs": [
        {
          "output_type": "execute_result",
          "data": {
            "text/plain": [
              "            0\n",
              "0    0.144577\n",
              "1    0.410984\n",
              "2    0.406345\n",
              "3    1.645872\n",
              "4   -1.333795\n",
              "..        ...\n",
              "195  0.922553\n",
              "196  0.642443\n",
              "197 -0.756302\n",
              "198 -0.199458\n",
              "199  0.062022\n",
              "\n",
              "[200 rows x 1 columns]"
            ],
            "text/html": [
              "\n",
              "  <div id=\"df-b0f37433-fed3-42cb-8671-ef35e666bedb\">\n",
              "    <div class=\"colab-df-container\">\n",
              "      <div>\n",
              "<style scoped>\n",
              "    .dataframe tbody tr th:only-of-type {\n",
              "        vertical-align: middle;\n",
              "    }\n",
              "\n",
              "    .dataframe tbody tr th {\n",
              "        vertical-align: top;\n",
              "    }\n",
              "\n",
              "    .dataframe thead th {\n",
              "        text-align: right;\n",
              "    }\n",
              "</style>\n",
              "<table border=\"1\" class=\"dataframe\">\n",
              "  <thead>\n",
              "    <tr style=\"text-align: right;\">\n",
              "      <th></th>\n",
              "      <th>0</th>\n",
              "    </tr>\n",
              "  </thead>\n",
              "  <tbody>\n",
              "    <tr>\n",
              "      <th>0</th>\n",
              "      <td>0.144577</td>\n",
              "    </tr>\n",
              "    <tr>\n",
              "      <th>1</th>\n",
              "      <td>0.410984</td>\n",
              "    </tr>\n",
              "    <tr>\n",
              "      <th>2</th>\n",
              "      <td>0.406345</td>\n",
              "    </tr>\n",
              "    <tr>\n",
              "      <th>3</th>\n",
              "      <td>1.645872</td>\n",
              "    </tr>\n",
              "    <tr>\n",
              "      <th>4</th>\n",
              "      <td>-1.333795</td>\n",
              "    </tr>\n",
              "    <tr>\n",
              "      <th>...</th>\n",
              "      <td>...</td>\n",
              "    </tr>\n",
              "    <tr>\n",
              "      <th>195</th>\n",
              "      <td>0.922553</td>\n",
              "    </tr>\n",
              "    <tr>\n",
              "      <th>196</th>\n",
              "      <td>0.642443</td>\n",
              "    </tr>\n",
              "    <tr>\n",
              "      <th>197</th>\n",
              "      <td>-0.756302</td>\n",
              "    </tr>\n",
              "    <tr>\n",
              "      <th>198</th>\n",
              "      <td>-0.199458</td>\n",
              "    </tr>\n",
              "    <tr>\n",
              "      <th>199</th>\n",
              "      <td>0.062022</td>\n",
              "    </tr>\n",
              "  </tbody>\n",
              "</table>\n",
              "<p>200 rows × 1 columns</p>\n",
              "</div>\n",
              "      <button class=\"colab-df-convert\" onclick=\"convertToInteractive('df-b0f37433-fed3-42cb-8671-ef35e666bedb')\"\n",
              "              title=\"Convert this dataframe to an interactive table.\"\n",
              "              style=\"display:none;\">\n",
              "        \n",
              "  <svg xmlns=\"http://www.w3.org/2000/svg\" height=\"24px\"viewBox=\"0 0 24 24\"\n",
              "       width=\"24px\">\n",
              "    <path d=\"M0 0h24v24H0V0z\" fill=\"none\"/>\n",
              "    <path d=\"M18.56 5.44l.94 2.06.94-2.06 2.06-.94-2.06-.94-.94-2.06-.94 2.06-2.06.94zm-11 1L8.5 8.5l.94-2.06 2.06-.94-2.06-.94L8.5 2.5l-.94 2.06-2.06.94zm10 10l.94 2.06.94-2.06 2.06-.94-2.06-.94-.94-2.06-.94 2.06-2.06.94z\"/><path d=\"M17.41 7.96l-1.37-1.37c-.4-.4-.92-.59-1.43-.59-.52 0-1.04.2-1.43.59L10.3 9.45l-7.72 7.72c-.78.78-.78 2.05 0 2.83L4 21.41c.39.39.9.59 1.41.59.51 0 1.02-.2 1.41-.59l7.78-7.78 2.81-2.81c.8-.78.8-2.07 0-2.86zM5.41 20L4 18.59l7.72-7.72 1.47 1.35L5.41 20z\"/>\n",
              "  </svg>\n",
              "      </button>\n",
              "      \n",
              "  <style>\n",
              "    .colab-df-container {\n",
              "      display:flex;\n",
              "      flex-wrap:wrap;\n",
              "      gap: 12px;\n",
              "    }\n",
              "\n",
              "    .colab-df-convert {\n",
              "      background-color: #E8F0FE;\n",
              "      border: none;\n",
              "      border-radius: 50%;\n",
              "      cursor: pointer;\n",
              "      display: none;\n",
              "      fill: #1967D2;\n",
              "      height: 32px;\n",
              "      padding: 0 0 0 0;\n",
              "      width: 32px;\n",
              "    }\n",
              "\n",
              "    .colab-df-convert:hover {\n",
              "      background-color: #E2EBFA;\n",
              "      box-shadow: 0px 1px 2px rgba(60, 64, 67, 0.3), 0px 1px 3px 1px rgba(60, 64, 67, 0.15);\n",
              "      fill: #174EA6;\n",
              "    }\n",
              "\n",
              "    [theme=dark] .colab-df-convert {\n",
              "      background-color: #3B4455;\n",
              "      fill: #D2E3FC;\n",
              "    }\n",
              "\n",
              "    [theme=dark] .colab-df-convert:hover {\n",
              "      background-color: #434B5C;\n",
              "      box-shadow: 0px 1px 3px 1px rgba(0, 0, 0, 0.15);\n",
              "      filter: drop-shadow(0px 1px 2px rgba(0, 0, 0, 0.3));\n",
              "      fill: #FFFFFF;\n",
              "    }\n",
              "  </style>\n",
              "\n",
              "      <script>\n",
              "        const buttonEl =\n",
              "          document.querySelector('#df-b0f37433-fed3-42cb-8671-ef35e666bedb button.colab-df-convert');\n",
              "        buttonEl.style.display =\n",
              "          google.colab.kernel.accessAllowed ? 'block' : 'none';\n",
              "\n",
              "        async function convertToInteractive(key) {\n",
              "          const element = document.querySelector('#df-b0f37433-fed3-42cb-8671-ef35e666bedb');\n",
              "          const dataTable =\n",
              "            await google.colab.kernel.invokeFunction('convertToInteractive',\n",
              "                                                     [key], {});\n",
              "          if (!dataTable) return;\n",
              "\n",
              "          const docLinkHtml = 'Like what you see? Visit the ' +\n",
              "            '<a target=\"_blank\" href=https://colab.research.google.com/notebooks/data_table.ipynb>data table notebook</a>'\n",
              "            + ' to learn more about interactive tables.';\n",
              "          element.innerHTML = '';\n",
              "          dataTable['output_type'] = 'display_data';\n",
              "          await google.colab.output.renderOutput(dataTable, element);\n",
              "          const docLink = document.createElement('div');\n",
              "          docLink.innerHTML = docLinkHtml;\n",
              "          element.appendChild(docLink);\n",
              "        }\n",
              "      </script>\n",
              "    </div>\n",
              "  </div>\n",
              "  "
            ]
          },
          "metadata": {},
          "execution_count": 32
        }
      ],
      "source": [
        "df_generated"
      ]
    },
    {
      "cell_type": "code",
      "execution_count": 33,
      "id": "automatic-reviewer",
      "metadata": {
        "colab": {
          "base_uri": "https://localhost:8080/",
          "height": 282
        },
        "id": "automatic-reviewer",
        "outputId": "6f792453-5b56-4b24-9478-97d1ffc1ff90"
      },
      "outputs": [
        {
          "output_type": "execute_result",
          "data": {
            "text/plain": [
              "<matplotlib.axes._subplots.AxesSubplot at 0x7fb53e529350>"
            ]
          },
          "metadata": {},
          "execution_count": 33
        },
        {
          "output_type": "display_data",
          "data": {
            "text/plain": [
              "<Figure size 432x288 with 1 Axes>"
            ],
            "image/png": "[encoded data removed]"
          },
          "metadata": {
            "needs_background": "light"
          }
        }
      ],
      "source": [
        "df_generated.plot(kind='hist')"
      ]
    },
    {
      "cell_type": "code",
      "execution_count": null,
      "id": "authentic-transport",
      "metadata": {
        "id": "authentic-transport"
      },
      "outputs": [],
      "source": [
        ""
      ]
    },
    {
      "cell_type": "markdown",
      "source": [
        "### **Q.30**"
      ],
      "metadata": {
        "id": "sGnUbuv7fjg2"
      },
      "id": "sGnUbuv7fjg2"
    },
    {
      "cell_type": "code",
      "execution_count": 34,
      "id": "gothic-affairs",
      "metadata": {
        "id": "gothic-affairs"
      },
      "outputs": [],
      "source": [
        "import pandas as pd\n",
        "import matplotlib.pyplot as plt\n",
        "import seaborn as sns"
      ]
    },
    {
      "cell_type": "code",
      "execution_count": 35,
      "id": "copyrighted-evanescence",
      "metadata": {
        "id": "copyrighted-evanescence"
      },
      "outputs": [],
      "source": [
        "df=pd.DataFrame({\"X\":[2,5,7,8,9,11,13],\n",
        "             \"Y\":[8,13,18,20,21,25,30]})"
      ]
    },
    {
      "cell_type": "code",
      "execution_count": 36,
      "id": "photographic-infection",
      "metadata": {
        "colab": {
          "base_uri": "https://localhost:8080/",
          "height": 351
        },
        "id": "photographic-infection",
        "outputId": "82525ddf-7b08-437b-b7f0-4e8d1659b017"
      },
      "outputs": [
        {
          "output_type": "stream",
          "name": "stderr",
          "text": [
            "/usr/local/lib/python3.7/dist-packages/seaborn/_decorators.py:43: FutureWarning: Pass the following variables as keyword args: x, y. From version 0.12, the only valid positional argument will be `data`, and passing other arguments without an explicit keyword will result in an error or misinterpretation.\n",
            "  FutureWarning\n"
          ]
        },
        {
          "output_type": "execute_result",
          "data": {
            "text/plain": [
              "<matplotlib.axes._subplots.AxesSubplot at 0x7fb53e46ca90>"
            ]
          },
          "metadata": {},
          "execution_count": 36
        },
        {
          "output_type": "display_data",
          "data": {
            "text/plain": [
              "<Figure size 432x288 with 1 Axes>"
            ],
            "image/png": "[encoded data removed]"
          },
          "metadata": {
            "needs_background": "light"
          }
        }
      ],
      "source": [
        "sns.scatterplot(df[\"X\"],df['Y'])"
      ]
    },
    {
      "cell_type": "code",
      "execution_count": null,
      "id": "satellite-discussion",
      "metadata": {
        "id": "satellite-discussion"
      },
      "outputs": [],
      "source": [
        ""
      ]
    }
  ],
  "metadata": {
    "kernelspec": {
      "display_name": "Python 3",
      "language": "python",
      "name": "python3"
    },
    "language_info": {
      "codemirror_mode": {
        "name": "ipython",
        "version": 3
      },
      "file_extension": ".py",
      "mimetype": "text/x-python",
      "name": "python",
      "nbconvert_exporter": "python",
      "pygments_lexer": "ipython3",
      "version": "3.7.9"
    },
    "colab": {
      "name": "Assignment-3(9166).ipynb",
      "provenance": []
    }
  },
  "nbformat": 4,
  "nbformat_minor": 5
}