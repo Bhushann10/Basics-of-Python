{
  "nbformat": 4,
  "nbformat_minor": 0,
  "metadata": {
    "colab": {
      "name": "Assignment1 (9166).ipynb",
      "provenance": [],
      "collapsed_sections": []
    },
    "kernelspec": {
      "name": "python3",
      "display_name": "Python 3"
    },
    "language_info": {
      "name": "python"
    }
  },
  "cells": [
    {
      "cell_type": "code",
      "source": [
        "A=[\"Bhushan Borse\",\"Male\",\"Student\"]\n",
        "B=[\"9166\",\"TYBSc\",\"B\"]\n",
        "\n",
        "tuple(A)\n",
        "\n"
      ],
      "metadata": {
        "colab": {
          "base_uri": "https://localhost:8080/"
        },
        "id": "ypfcJzxenRLS",
        "outputId": "6da674c6-2371-409e-a050-de6a2f07ad3b"
      },
      "execution_count": 1,
      "outputs": [
        {
          "output_type": "execute_result",
          "data": {
            "text/plain": [
              "('Bhushan Borse', 'Male', 'Student')"
            ]
          },
          "metadata": {},
          "execution_count": 1
        }
      ]
    },
    {
      "cell_type": "code",
      "source": [
        "tuple(B)"
      ],
      "metadata": {
        "colab": {
          "base_uri": "https://localhost:8080/"
        },
        "id": "wnKgMwKrnRdw",
        "outputId": "2c87a602-3bcc-4a42-d015-e0c878a01548"
      },
      "execution_count": 2,
      "outputs": [
        {
          "output_type": "execute_result",
          "data": {
            "text/plain": [
              "('9166', 'TYBSc', 'B')"
            ]
          },
          "metadata": {},
          "execution_count": 2
        }
      ]
    },
    {
      "cell_type": "code",
      "source": [
        "a=('Bhushan','Borse','Male','Student')"
      ],
      "metadata": {
        "id": "eH6Bz-PJnRqT"
      },
      "execution_count": 4,
      "outputs": []
    },
    {
      "cell_type": "code",
      "source": [
        "b=('9166','TYBSC','B')"
      ],
      "metadata": {
        "id": "BpZgqqIRnRtl"
      },
      "execution_count": 5,
      "outputs": []
    },
    {
      "cell_type": "code",
      "source": [
        "a"
      ],
      "metadata": {
        "colab": {
          "base_uri": "https://localhost:8080/"
        },
        "id": "WrMPrPqUnRwc",
        "outputId": "d4c4dad8-d980-471a-b63c-865d3aabd81b"
      },
      "execution_count": 6,
      "outputs": [
        {
          "output_type": "execute_result",
          "data": {
            "text/plain": [
              "('Bhushan', 'Borse', 'Male', 'Student')"
            ]
          },
          "metadata": {},
          "execution_count": 6
        }
      ]
    },
    {
      "cell_type": "code",
      "source": [
        "print(type(a))"
      ],
      "metadata": {
        "colab": {
          "base_uri": "https://localhost:8080/"
        },
        "id": "eXQEu0MunRzT",
        "outputId": "5ec6c38f-27dd-4110-d584-f9fd8077cf61"
      },
      "execution_count": 7,
      "outputs": [
        {
          "output_type": "stream",
          "name": "stdout",
          "text": [
            "<class 'tuple'>\n"
          ]
        }
      ]
    },
    {
      "cell_type": "code",
      "source": [
        "print(a[:3])"
      ],
      "metadata": {
        "colab": {
          "base_uri": "https://localhost:8080/"
        },
        "id": "z2E-lD9HnR2T",
        "outputId": "136633ff-0112-4921-af97-71a0fecdaf41"
      },
      "execution_count": 8,
      "outputs": [
        {
          "output_type": "stream",
          "name": "stdout",
          "text": [
            "('Bhushan', 'Borse', 'Male')\n"
          ]
        }
      ]
    },
    {
      "cell_type": "code",
      "source": [
        "print(a[2:])"
      ],
      "metadata": {
        "colab": {
          "base_uri": "https://localhost:8080/"
        },
        "id": "7n-gMOntqQFu",
        "outputId": "2e324aee-ec91-44e6-c679-9f1268b98927"
      },
      "execution_count": 9,
      "outputs": [
        {
          "output_type": "stream",
          "name": "stdout",
          "text": [
            "('Male', 'Student')\n"
          ]
        }
      ]
    },
    {
      "cell_type": "code",
      "source": [
        "print(a[3])"
      ],
      "metadata": {
        "colab": {
          "base_uri": "https://localhost:8080/"
        },
        "id": "aseqW2oDqowV",
        "outputId": "183cd7a6-6ce4-41b5-b0c8-03a08927c387"
      },
      "execution_count": 10,
      "outputs": [
        {
          "output_type": "stream",
          "name": "stdout",
          "text": [
            "Student\n"
          ]
        }
      ]
    },
    {
      "cell_type": "code",
      "source": [
        "print(a[:2])"
      ],
      "metadata": {
        "colab": {
          "base_uri": "https://localhost:8080/"
        },
        "id": "XfYokKT0q1s4",
        "outputId": "05423ee1-a730-45b4-b642-4059793641d2"
      },
      "execution_count": 11,
      "outputs": [
        {
          "output_type": "stream",
          "name": "stdout",
          "text": [
            "('Bhushan', 'Borse')\n"
          ]
        }
      ]
    },
    {
      "cell_type": "code",
      "source": [
        "print(a[1:2])"
      ],
      "metadata": {
        "colab": {
          "base_uri": "https://localhost:8080/"
        },
        "id": "dY9wFSEtq-m_",
        "outputId": "3853c6a4-1af0-430f-e2a2-45a3227198b7"
      },
      "execution_count": 12,
      "outputs": [
        {
          "output_type": "stream",
          "name": "stdout",
          "text": [
            "('Borse',)\n"
          ]
        }
      ]
    },
    {
      "cell_type": "code",
      "source": [
        "print(b,\"\\n\")"
      ],
      "metadata": {
        "colab": {
          "base_uri": "https://localhost:8080/"
        },
        "id": "wqGcoKcRrQTX",
        "outputId": "564887db-d284-4a3d-dfb0-fef54093ff41"
      },
      "execution_count": 13,
      "outputs": [
        {
          "output_type": "stream",
          "name": "stdout",
          "text": [
            "('9166', 'TYBSC', 'B') \n",
            "\n"
          ]
        }
      ]
    },
    {
      "cell_type": "code",
      "source": [
        "for j in a:\n",
        "    print(j)"
      ],
      "metadata": {
        "colab": {
          "base_uri": "https://localhost:8080/"
        },
        "id": "pa1KxuGBraKU",
        "outputId": "1f4013df-feb0-4489-e4ba-21a580860881"
      },
      "execution_count": 14,
      "outputs": [
        {
          "output_type": "stream",
          "name": "stdout",
          "text": [
            "Bhushan\n",
            "Borse\n",
            "Male\n",
            "Student\n"
          ]
        }
      ]
    },
    {
      "cell_type": "code",
      "source": [
        "if \"TYBSC\" in b:\n",
        "    print(\"Bhushan is in TYBSC\")"
      ],
      "metadata": {
        "colab": {
          "base_uri": "https://localhost:8080/"
        },
        "id": "F3zwWzeSrjYD",
        "outputId": "6dcc4c42-f757-4009-f60c-7a8a6756b8e1"
      },
      "execution_count": 16,
      "outputs": [
        {
          "output_type": "stream",
          "name": "stdout",
          "text": [
            "Bhushan is in TYBSC\n"
          ]
        }
      ]
    },
    {
      "cell_type": "code",
      "source": [
        "c=tuple(\"Pune\")\n",
        "a+b+c"
      ],
      "metadata": {
        "colab": {
          "base_uri": "https://localhost:8080/"
        },
        "id": "PB7THuj1r4c3",
        "outputId": "9b8e0d78-c2c7-440c-d04a-7caf0f0ea900"
      },
      "execution_count": 17,
      "outputs": [
        {
          "output_type": "execute_result",
          "data": {
            "text/plain": [
              "('Bhushan',\n",
              " 'Borse',\n",
              " 'Male',\n",
              " 'Student',\n",
              " '9166',\n",
              " 'TYBSC',\n",
              " 'B',\n",
              " 'P',\n",
              " 'u',\n",
              " 'n',\n",
              " 'e')"
            ]
          },
          "metadata": {},
          "execution_count": 17
        }
      ]
    }
  ]
}